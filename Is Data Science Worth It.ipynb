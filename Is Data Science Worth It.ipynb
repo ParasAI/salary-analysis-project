{
 "cells": [
  {
   "cell_type": "code",
   "execution_count": null,
   "id": "beb20a59",
   "metadata": {},
   "outputs": [],
   "source": [
    "import pandas as pd\n",
    "import sqlite3 \n",
    "import matplotlib.pyplot as plt\n",
    "import seaborn as sns\n",
    "\n",
    "# Load the full dataset\n",
    "df = pd.read_csv('Salary_Data.csv')\n",
    "print(f\" Toatal employees: {len(df)}\")\n",
    "print(df.head(10))\n",
    "\n",
    "# Setup SQL\n",
    "conn = sqlite3.connect(\":memory:\")\n",
    "df.to_sql('employees', conn, index= False)\n",
    "\n",
    "# All about Data Scientists\n",
    "data_scientists = pd.read_sql_query(\"\"\"\n",
    "    SELECT *\n",
    "    FROM employees \n",
    "    WHERE `Job Title` = 'Data Scientist'\n",
    "\"\"\", conn)\n",
    "\n",
    "print(f\"Total Data Scientists: {len(data_scientists)}\")\n",
    "print(f\"Average DS Salary: ${data_scientists['Salary'].mean():,.0f}\")\n",
    "print(f\"Salary Range: ${data_scientists['Salary'].min():,.0f} - ${data_scientists['Salary'].max():,.0f}\")\n",
    "\n",
    "# Experience vs Salary for Data Scientists\n",
    "plt.figure(figsize=(10, 6))\n",
    "plt.scatter(data_scientists['Years of Experience'], data_scientists['Salary'], alpha=0.5)\n",
    "plt.xlabel('Years of Experience')\n",
    "plt.ylabel('Salary')\n",
    "plt.title('Data Scientists: Eperience vs Salary')\n",
    "plt.grid(True, alpha=0.3)\n",
    "plt.show()\n",
    "\n",
    "# Education impact on DS salary\n",
    "# Tech roles comparison\n",
    "tech_roles = pd.read_sql_query(\"\"\"\n",
    "    SELECT `Job Title`, \n",
    "           AVG(Salary) as avg_salary,\n",
    "           AVG(`Years of Experience`) as avg_experience,\n",
    "           COUNT(*) as count\n",
    "    FROM employees \n",
    "    WHERE `Job Title` IN ('Data Scientist', 'Software Engineer', 'Data Analyst', \n",
    "                          'Software Developer', 'Data Engineer')\n",
    "    GROUP BY `Job Title`\n",
    "    ORDER BY avg_salary DESC\n",
    "\"\"\", conn)\n",
    "\n",
    "print(tech_roles)\n",
    "\n",
    "#visualize\n",
    "plt.figure(figsize=(12,6))\n",
    "plt.barh(tech_roles['Job Title'], tech_roles['avg_salary'])\n",
    "plt.xlabel('Avarage Salary ($)')\n",
    "plt.title('Tech Roles: Avarage Salary Comparision')\n",
    "plt.tight_layout()\n",
    "plt.show()\n",
    "\n",
    "# Education impact on DS salary\n",
    "ds_by_education = pd.read_sql_query(\"\"\"\n",
    "    SELECT `Education Level`,\n",
    "           AVG(Salary) as avg_salary,\n",
    "           COUNT(*) as count\n",
    "    FROM employees \n",
    "    WHERE `Job Title` = 'Data Scientist'\n",
    "    GROUP BY `Education Level`\n",
    "    ORDER BY avg_salary DESC\n",
    "\"\"\", conn)\n",
    "\n",
    "print(ds_by_education)\n",
    "\n",
    "             \n"
   ]
  },
  {
   "cell_type": "code",
   "execution_count": 2,
   "id": "2d7cd528",
   "metadata": {},
   "outputs": [
    {
     "ename": "NameError",
     "evalue": "name 'pd' is not defined",
     "output_type": "error",
     "traceback": [
      "\u001b[31m---------------------------------------------------------------------------\u001b[39m",
      "\u001b[31mNameError\u001b[39m                                 Traceback (most recent call last)",
      "\u001b[36mCell\u001b[39m\u001b[36m \u001b[39m\u001b[32mIn[2]\u001b[39m\u001b[32m, line 2\u001b[39m\n\u001b[32m      1\u001b[39m \u001b[38;5;66;03m# Education impact on DS salary\u001b[39;00m\n\u001b[32m----> \u001b[39m\u001b[32m2\u001b[39m ds_by_education = \u001b[43mpd\u001b[49m.read_sql_query(\u001b[33m\"\"\"\u001b[39m\n\u001b[32m      3\u001b[39m \u001b[33m    SELECT `Education Level`,\u001b[39m\n\u001b[32m      4\u001b[39m \u001b[33m           AVG(Salary) as avg_salary,\u001b[39m\n\u001b[32m      5\u001b[39m \u001b[33m           COUNT(*) as count\u001b[39m\n\u001b[32m      6\u001b[39m \u001b[33m    FROM employees \u001b[39m\n\u001b[32m      7\u001b[39m \u001b[33m    WHERE `Job Title` = \u001b[39m\u001b[33m'\u001b[39m\u001b[33mData Scientist\u001b[39m\u001b[33m'\u001b[39m\n\u001b[32m      8\u001b[39m \u001b[33m    GROUP BY `Education Level`\u001b[39m\n\u001b[32m      9\u001b[39m \u001b[33m    ORDER BY avg_salary DESC\u001b[39m\n\u001b[32m     10\u001b[39m \u001b[33m\"\"\"\u001b[39m, conn)\n\u001b[32m     12\u001b[39m \u001b[38;5;28mprint\u001b[39m(ds_by_education)\n",
      "\u001b[31mNameError\u001b[39m: name 'pd' is not defined"
     ]
    }
   ],
   "source": [
    "# Education impact on DS salary\n",
    "ds_by_education = pd.read_sql_query(\"\"\"\n",
    "    SELECT `Education Level`,\n",
    "           AVG(Salary) as avg_salary,\n",
    "           COUNT(*) as count\n",
    "    FROM employees \n",
    "    WHERE `Job Title` = 'Data Scientist'\n",
    "    GROUP BY `Education Level`\n",
    "    ORDER BY avg_salary DESC\n",
    "\"\"\", conn)\n",
    "\n",
    "print(ds_by_education)"
   ]
  }
 ],
 "metadata": {
  "kernelspec": {
   "display_name": "Python 3",
   "language": "python",
   "name": "python3"
  },
  "language_info": {
   "codemirror_mode": {
    "name": "ipython",
    "version": 3
   },
   "file_extension": ".py",
   "mimetype": "text/x-python",
   "name": "python",
   "nbconvert_exporter": "python",
   "pygments_lexer": "ipython3",
   "version": "3.13.7"
  }
 },
 "nbformat": 4,
 "nbformat_minor": 5
}
